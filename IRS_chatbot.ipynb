{
  "nbformat": 4,
  "nbformat_minor": 0,
  "metadata": {
    "colab": {
      "provenance": [],
      "include_colab_link": true
    },
    "kernelspec": {
      "name": "python3",
      "display_name": "Python 3"
    },
    "language_info": {
      "name": "python"
    }
  },
  "cells": [
    {
      "cell_type": "markdown",
      "metadata": {
        "id": "view-in-github",
        "colab_type": "text"
      },
      "source": [
        "<a href=\"https://colab.research.google.com/github/okrazc/groqirsassistant1/blob/main/IRS_chatbot.ipynb\" target=\"_parent\"><img src=\"https://colab.research.google.com/assets/colab-badge.svg\" alt=\"Open In Colab\"/></a>"
      ]
    },
    {
      "cell_type": "code",
      "execution_count": null,
      "metadata": {
        "colab": {
          "base_uri": "https://localhost:8080/"
        },
        "collapsed": true,
        "id": "im8zU_vBnBMH",
        "outputId": "ff8bf4ab-5a10-427a-bde9-b7cb46c4d524"
      },
      "outputs": [
        {
          "output_type": "stream",
          "name": "stdout",
          "text": [
            "Collecting groq\n",
            "  Downloading groq-0.11.0-py3-none-any.whl.metadata (13 kB)\n",
            "Requirement already satisfied: anyio<5,>=3.5.0 in /usr/local/lib/python3.10/dist-packages (from groq) (3.7.1)\n",
            "Requirement already satisfied: distro<2,>=1.7.0 in /usr/lib/python3/dist-packages (from groq) (1.7.0)\n",
            "Collecting httpx<1,>=0.23.0 (from groq)\n",
            "  Downloading httpx-0.27.2-py3-none-any.whl.metadata (7.1 kB)\n",
            "Requirement already satisfied: pydantic<3,>=1.9.0 in /usr/local/lib/python3.10/dist-packages (from groq) (2.9.2)\n",
            "Requirement already satisfied: sniffio in /usr/local/lib/python3.10/dist-packages (from groq) (1.3.1)\n",
            "Requirement already satisfied: typing-extensions<5,>=4.7 in /usr/local/lib/python3.10/dist-packages (from groq) (4.12.2)\n",
            "Requirement already satisfied: idna>=2.8 in /usr/local/lib/python3.10/dist-packages (from anyio<5,>=3.5.0->groq) (3.10)\n",
            "Requirement already satisfied: exceptiongroup in /usr/local/lib/python3.10/dist-packages (from anyio<5,>=3.5.0->groq) (1.2.2)\n",
            "Requirement already satisfied: certifi in /usr/local/lib/python3.10/dist-packages (from httpx<1,>=0.23.0->groq) (2024.8.30)\n",
            "Collecting httpcore==1.* (from httpx<1,>=0.23.0->groq)\n",
            "  Downloading httpcore-1.0.5-py3-none-any.whl.metadata (20 kB)\n",
            "Collecting h11<0.15,>=0.13 (from httpcore==1.*->httpx<1,>=0.23.0->groq)\n",
            "  Downloading h11-0.14.0-py3-none-any.whl.metadata (8.2 kB)\n",
            "Requirement already satisfied: annotated-types>=0.6.0 in /usr/local/lib/python3.10/dist-packages (from pydantic<3,>=1.9.0->groq) (0.7.0)\n",
            "Requirement already satisfied: pydantic-core==2.23.4 in /usr/local/lib/python3.10/dist-packages (from pydantic<3,>=1.9.0->groq) (2.23.4)\n",
            "Downloading groq-0.11.0-py3-none-any.whl (106 kB)\n",
            "\u001b[2K   \u001b[90m━━━━━━━━━━━━━━━━━━━━━━━━━━━━━━━━━━━━━━━━\u001b[0m \u001b[32m106.5/106.5 kB\u001b[0m \u001b[31m2.8 MB/s\u001b[0m eta \u001b[36m0:00:00\u001b[0m\n",
            "\u001b[?25hDownloading httpx-0.27.2-py3-none-any.whl (76 kB)\n",
            "\u001b[2K   \u001b[90m━━━━━━━━━━━━━━━━━━━━━━━━━━━━━━━━━━━━━━━━\u001b[0m \u001b[32m76.4/76.4 kB\u001b[0m \u001b[31m3.8 MB/s\u001b[0m eta \u001b[36m0:00:00\u001b[0m\n",
            "\u001b[?25hDownloading httpcore-1.0.5-py3-none-any.whl (77 kB)\n",
            "\u001b[2K   \u001b[90m━━━━━━━━━━━━━━━━━━━━━━━━━━━━━━━━━━━━━━━━\u001b[0m \u001b[32m77.9/77.9 kB\u001b[0m \u001b[31m1.9 MB/s\u001b[0m eta \u001b[36m0:00:00\u001b[0m\n",
            "\u001b[?25hDownloading h11-0.14.0-py3-none-any.whl (58 kB)\n",
            "\u001b[2K   \u001b[90m━━━━━━━━━━━━━━━━━━━━━━━━━━━━━━━━━━━━━━━━\u001b[0m \u001b[32m58.3/58.3 kB\u001b[0m \u001b[31m1.1 MB/s\u001b[0m eta \u001b[36m0:00:00\u001b[0m\n",
            "\u001b[?25hInstalling collected packages: h11, httpcore, httpx, groq\n",
            "Successfully installed groq-0.11.0 h11-0.14.0 httpcore-1.0.5 httpx-0.27.2\n"
          ]
        }
      ],
      "source": [
        "!pip install groq"
      ]
    },
    {
      "cell_type": "code",
      "source": [
        "from groq import Groq\n",
        "from IPython.display import Markdown, display\n",
        "\n",
        "client = Groq(\n",
        "    api_key=\"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\",\n",
        ")"
      ],
      "metadata": {
        "id": "1vYSFdaYoDRW"
      },
      "execution_count": null,
      "outputs": []
    },
    {
      "cell_type": "code",
      "source": [
        "##############################################################################\n",
        "# Chatbot class.\n",
        "##############################################################################\n",
        "class ChatBot:\n",
        "    def __init__(self,model=\"llama3-8b-8192\"):\n",
        "        self.question_trace = []\n",
        "        self.answer_trace = []\n",
        "        self.model = model\n",
        "        self.client = Groq(api_key=\"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\",)\n",
        "        self.msgs = []\n",
        "        self.logs = []\n",
        "        self.Role = \"You are tax expert. Answer the question using only information below: \\n\"\n",
        "        self.bt_content = \"The form of business you operate determines what taxes you must pay and how you pay them. The following are the five general types of business taxes. Income Tax Estimated Taxes Self-Employment Tax Employment Taxes Excise Tax Income tax All businesses except partnerships must file an annual income tax return. Partnerships file an information return. The form you use depends on how your business is organized. Refer to Business Structures to find out which returns you must file based on the business entity established. The federal income tax is a pay-as-you-go tax. You must pay the tax as you earn or receive income during the year. An employee usually has income tax withheld from his or her pay. If you do not pay your tax through withholding, or do not pay enough tax that way, you might have to pay estimated tax. If you are not required to make estimated tax payments, you may pay any tax due when you file your return. For additional information refer to Publication 583.Estimated taxGenerally, you must pay taxes on income, including self-employment tax (discussed next), by making regular payments of estimated tax during the year. For additional information, refer to Estimated Taxes.Self-employment tax Self-employment tax (SE tax) is a social security and Medicare tax primarily for individuals who work for themselves. Your payments of SE tax contribute to your coverage under the social security system. Social security coverage provides you with retirement benefits, disability benefits, survivor benefits, and hospital insurance (Medicare) benefits.Generally, you must pay SE tax and file Schedule SE (Form 1040 or 1040-SR) if either of the following applies.If your net earnings from self-employment were $400 or more.If you work for a church or a qualified church-controlled organization (other than as a minister or member of a religious order) that elected an exemption from social security and Medicare taxes, you are subject to SE tax if you receive $108.28 or more in wages from the church or organization.Note: There are special rules and exceptions for aliens, fishing crew members, notary public, state or local government employees, foreign government or international organization employees, etc. For additional information, refer to Self-Employment Tax. Employment taxesWhen you have employees, you as the employer have certain employment tax responsibilities that you must pay and forms you must file. Employment taxes include the following:Social security and Medicare taxes Federal income tax withholding Federal unemployment (FUTA) tax For additional information, refer to Employment Taxes for Small Businesses.Excise taxThis section describes the excise taxes you may have to pay and the forms you have to file if you do any of the following.Manufacture or sell certain products.Operate certain kinds of businesses.Use various kinds of equipment, facilities, or products.Receive payment for certain services.Form 720 - The federal excise taxes reported on Form 720, consist of several broad categories of taxes, including the following.Environmental taxes.Communications and air transportation taxes.Fuel taxes.Tax on the first retail sale of heavy trucks, trailers, and tractors.Manufacturers taxes on the sale or use of a variety of different articlesForm 2290 - There is a federal excise tax on certain trucks, truck tractors, and buses used on public highways. The tax applies to vehicles having a taxable gross weight of 55,000 pounds or more. Report the tax on Form 2290. For additional information, see the instructions for Form 2290 .Form 730 - If you are in the business of accepting wagers or conducting a wagering pool or lottery, you may be liable for the federal excise tax on wagering. Use Form 730, to figure the tax on the wagers you receive.Form 11-C - Use Form 11-C, Occupational Tax and Registration Return for Wagering, to register for any wagering activity and to pay the federal occupational tax on wagering.Excise tax has several general excise tax programs. One of the major components of the excise program is motor fuel. For additional information, refer to Excise Taxes.\"\n",
        "        self.prompt_template = '{Role} \\n Information: \"{bussinessTaxcontext}\" \\n Question: \"{user_q}\" \\n Answer:'\n",
        "        # self.botmode = False\n",
        "\n",
        "    def get_modelname(self):\n",
        "        print(f\"model name: {self.model}\")\n",
        "\n",
        "    def getUserInput(self):\n",
        "        # return input(Markdown(f\"<font color='blue'><i>user: </i></font>\"))\n",
        "        return input(\"User: \")\n",
        "\n",
        "    def generateResponse(self,user_msg):\n",
        "        prompt = self.prompt_template.format(Role=self.Role,bussinessTaxcontext=self.bt_content,user_q=user_msg)\n",
        "\n",
        "        self.msgs.append({\"role\":\"user\", \"content\":prompt});\n",
        "        chat_completion = self.client.chat.completions.create(messages=self.msgs,model=self.model,)\n",
        "        self.logs.append(chat_completion)\n",
        "\n",
        "        # self.msgs.append({\"role\":chat_completion.choices[0].message.role,\"content\":chat_completion.choices[0].message.content})\n",
        "        return chat_completion.choices[0].message.content\n",
        "\n",
        "    def startChat(self):\n",
        "        user_msg = self.getUserInput()\n",
        "        while(user_msg != \"exit\"):\n",
        "            botResponse = self.generateResponse(user_msg)\n",
        "            display(Markdown(f\"<font color='blue'><i>bot: </i>{botResponse}</font>\"))\n",
        "            # print(botResponse)\n",
        "            user_msg = self.getUserInput()\n",
        "        if(user_msg == \"exit\"):\n",
        "            print(\"Thank you for using our chat application. Please give any feedback to help us improve.\")\n"
      ],
      "metadata": {
        "id": "Bqoqrnwpo2S-"
      },
      "execution_count": null,
      "outputs": []
    },
    {
      "cell_type": "code",
      "source": [
        "import time\n",
        "bot1 = ChatBot()\n",
        "bot1.get_modelname()"
      ],
      "metadata": {
        "colab": {
          "base_uri": "https://localhost:8080/"
        },
        "id": "Q6lRWrI9q6Fc",
        "outputId": "305e176c-15dc-4c55-d2ed-9bb5ad0d640f"
      },
      "execution_count": null,
      "outputs": [
        {
          "output_type": "stream",
          "name": "stdout",
          "text": [
            "model name: llama3-8b-8192\n"
          ]
        }
      ]
    },
    {
      "cell_type": "code",
      "source": [
        "bot1.startChat()"
      ],
      "metadata": {
        "colab": {
          "base_uri": "https://localhost:8080/",
          "height": 578
        },
        "id": "ZT8ddxpVrLJC",
        "outputId": "c8ca48be-a9c1-4b57-e90e-df10504b3609"
      },
      "execution_count": null,
      "outputs": [
        {
          "name": "stdout",
          "output_type": "stream",
          "text": [
            "User: Hi, My name is Ashok\n"
          ]
        },
        {
          "output_type": "display_data",
          "data": {
            "text/plain": [
              "<IPython.core.display.Markdown object>"
            ],
            "text/markdown": "<font color='blue'><i>bot: </i>Hello Ashok! As a tax expert, I'd be happy to help you with any tax-related questions you may have. Based on the information you provided, I understand that you're looking for information on business taxes. Can you please specify which type of business you operate or which taxes you're interested in learning more about? Are you a sole proprietor, partnership, corporation, or something else?</font>"
          },
          "metadata": {}
        },
        {
          "name": "stdout",
          "output_type": "stream",
          "text": [
            "User: What are the types of business taxes\n"
          ]
        },
        {
          "output_type": "display_data",
          "data": {
            "text/plain": [
              "<IPython.core.display.Markdown object>"
            ],
            "text/markdown": "<font color='blue'><i>bot: </i>Hi Ashok! According to the provided information, the five general types of business taxes are:\n\n1. Income Tax\n2. Estimated Taxes\n3. Self-Employment Tax\n4. Employment Taxes\n5. Excise Tax\n\nThese types of taxes are determined by the form of business you operate and the specific requirements for your business entity. Furthermore, the information provided highlights the importance of understanding the specific tax obligations for your business to ensure compliance and avoid potential penalties.</font>"
          },
          "metadata": {}
        },
        {
          "name": "stdout",
          "output_type": "stream",
          "text": [
            "User: What are the forms to fill for excise tax\n"
          ]
        },
        {
          "output_type": "display_data",
          "data": {
            "text/plain": [
              "<IPython.core.display.Markdown object>"
            ],
            "text/markdown": "<font color='blue'><i>bot: </i>According to the information, the forms to fill for excise tax are:\n\n1. Form 720\n2. Form 2290\n3. Form 730\n4. Form 11-C</font>"
          },
          "metadata": {}
        },
        {
          "name": "stdout",
          "output_type": "stream",
          "text": [
            "User: What is Form 11-c\n"
          ]
        },
        {
          "output_type": "display_data",
          "data": {
            "text/plain": [
              "<IPython.core.display.Markdown object>"
            ],
            "text/markdown": "<font color='blue'><i>bot: </i>Form 11-C is \"Occupational Tax and Registration Return for Wagering\". It is used to register for any wagering activity and to pay the federal occupational tax on wagering.</font>"
          },
          "metadata": {}
        },
        {
          "name": "stdout",
          "output_type": "stream",
          "text": [
            "User: What is my name\n"
          ]
        },
        {
          "output_type": "display_data",
          "data": {
            "text/plain": [
              "<IPython.core.display.Markdown object>"
            ],
            "text/markdown": "<font color='blue'><i>bot: </i>I'm not answering that one!</font>"
          },
          "metadata": {}
        },
        {
          "output_type": "stream",
          "name": "stdout",
          "text": [
            "User: exit\n",
            "Thank you for using our chat application. Please give any feedback to help us improve.\n"
          ]
        }
      ]
    },
    {
      "cell_type": "code",
      "source": [
        "for str in bot1.logs:\n",
        "    print(str.choices[0].message.content)\n",
        "# print(bot1.msgs)"
      ],
      "metadata": {
        "colab": {
          "base_uri": "https://localhost:8080/"
        },
        "id": "qgGFXa32rVH4",
        "outputId": "ec06af1e-94c5-493f-9250-c52e7fd43b16"
      },
      "execution_count": null,
      "outputs": [
        {
          "output_type": "stream",
          "name": "stdout",
          "text": [
            "Hello Ashok! As a tax expert, I'd be happy to help you with any tax-related questions you may have. Based on the information you provided, I understand that you're looking for information on business taxes. Can you please specify which type of business you operate or which taxes you're interested in learning more about? Are you a sole proprietor, partnership, corporation, or something else?\n",
            "Hi Ashok! According to the provided information, the five general types of business taxes are:\n",
            "\n",
            "1. Income Tax\n",
            "2. Estimated Taxes\n",
            "3. Self-Employment Tax\n",
            "4. Employment Taxes\n",
            "5. Excise Tax\n",
            "\n",
            "These types of taxes are determined by the form of business you operate and the specific requirements for your business entity. Furthermore, the information provided highlights the importance of understanding the specific tax obligations for your business to ensure compliance and avoid potential penalties.\n",
            "According to the information, the forms to fill for excise tax are:\n",
            "\n",
            "1. Form 720\n",
            "2. Form 2290\n",
            "3. Form 730\n",
            "4. Form 11-C\n",
            "Form 11-C is \"Occupational Tax and Registration Return for Wagering\". It is used to register for any wagering activity and to pay the federal occupational tax on wagering.\n",
            "I'm not answering that one!\n"
          ]
        }
      ]
    },
    {
      "cell_type": "code",
      "source": [
        "bussinessTaxcontext= \"The form of business you operate determines what taxes you must pay and how you pay them. The following are the five general types of business taxes. \\\n",
        "Income Tax \\\n",
        "Estimated Taxes \\\n",
        "Self-Employment Tax \\\n",
        "Employment Taxes \\\n",
        "Excise Tax \\\n",
        "Income tax \\\n",
        "All businesses except partnerships must file an annual income tax return. Partnerships file an information return. The form you use depends on how your business is organized. Refer to Business Structures to find out which returns you must file based on the business entity established. \\\n",
        "\\\n",
        "The federal income tax is a pay-as-you-go tax. You must pay the tax as you earn or receive income during the year. An employee usually has income tax withheld from his or her pay. If you do not pay your tax through withholding, or do not pay enough tax that way, you might have to pay estimated tax. If you are not required to make estimated tax payments, you may pay any tax due when you file your return. For additional information refer to Publication 583.\\\n",
        "\\\n",
        "Estimated tax\\\n",
        "Generally, you must pay taxes on income, including self-employment tax (discussed next), by making regular payments of estimated tax during the year. For additional information, refer to Estimated Taxes.\\\n",
        "\\\n",
        "Self-employment tax \\\n",
        "Self-employment tax (SE tax) is a social security and Medicare tax primarily for individuals who work for themselves. Your payments of SE tax contribute to your coverage under the social security system. Social security coverage provides you with retirement benefits, disability benefits, survivor benefits, and hospital insurance (Medicare) benefits.\\\n",
        "\\\n",
        "Generally, you must pay SE tax and file Schedule SE (Form 1040 or 1040-SR) if either of the following applies.\\\n",
        "\\\n",
        "If your net earnings from self-employment were $400 or more.\\\n",
        "If you work for a church or a qualified church-controlled organization (other than as a minister or member of a religious order) that elected an exemption from social security and Medicare taxes, you are subject to SE tax if you receive $108.28 or more in wages from the church or organization.\\\n",
        "Note: There are special rules and exceptions for aliens, fishing crew members, notary public, state or local government employees, foreign government or international organization employees, etc. For additional information, refer to Self-Employment Tax. \\\n",
        "\\\n",
        "Employment taxes\\\n",
        "When you have employees, you as the employer have certain employment tax responsibilities that you must pay and forms you must file. Employment taxes include the following:\\\n",
        "\\\n",
        "Social security and Medicare taxes \\\n",
        "Federal income tax withholding \\\n",
        "Federal unemployment (FUTA) tax \\\n",
        "For additional information, refer to Employment Taxes for Small Businesses.\\\n",
        "\\\n",
        "Excise tax\\\n",
        "This section describes the excise taxes you may have to pay and the forms you have to file if you do any of the following.\\\n",
        "\\\n",
        "Manufacture or sell certain products.\\\n",
        "Operate certain kinds of businesses.\\\n",
        "Use various kinds of equipment, facilities, or products.\\\n",
        "Receive payment for certain services.\\\n",
        "Form 720 - The federal excise taxes reported on Form 720, consist of several broad categories of taxes, including the following.\\\n",
        "\\\n",
        "Environmental taxes.\\\n",
        "Communications and air transportation taxes.\\\n",
        "Fuel taxes.\\\n",
        "Tax on the first retail sale of heavy trucks, trailers, and tractors.\\\n",
        "Manufacturers taxes on the sale or use of a variety of different articles\\\n",
        "Form 2290 - There is a federal excise tax on certain trucks, truck tractors, and buses used on public highways. The tax applies to vehicles having a taxable gross weight of 55,000 pounds or more. Report the tax on Form 2290. For additional information, see the instructions for Form 2290 .\\\n",
        "\\\n",
        "Form 730 - If you are in the business of accepting wagers or conducting a wagering pool or lottery, you may be liable for the federal excise tax on wagering. Use Form 730, to figure the tax on the wagers you receive.\\\n",
        "\\\n",
        "Form 11-C - Use Form 11-C, Occupational Tax and Registration Return for Wagering, to register for any wagering activity and to pay the federal occupational tax on wagering.\\\n",
        "\\\n",
        "Excise tax has several general excise tax programs. One of the major components of the excise program is motor fuel. For additional information, refer to Excise Taxes.\"\n",
        "Role = \"You are tax expert. Answer the question using only information below: \\n\"\n",
        "user_msg = \"What are the typs of business taxes?\"\n",
        "prompttemplate = '{Role} \\n Information: \"{bussinessTaxcontext}\" \\n Question: \"{user_msg}\" \\n Answer:'\n",
        "prompt = prompttemplate.format(Role=Role,bussinessTaxcontext=bussinessTaxcontext,user_msg=user_msg)"
      ],
      "metadata": {
        "id": "cdK5sDZ2ss8Q"
      },
      "execution_count": null,
      "outputs": []
    },
    {
      "cell_type": "code",
      "source": [
        "print(prompt)"
      ],
      "metadata": {
        "colab": {
          "base_uri": "https://localhost:8080/"
        },
        "id": "HkOXrYv5wpOd",
        "outputId": "dc8d5991-c96e-486b-ba36-5cfcd41199b1"
      },
      "execution_count": null,
      "outputs": [
        {
          "output_type": "stream",
          "name": "stdout",
          "text": [
            "You are tax expert. Answer the question using only information below: \n",
            " \n",
            " Information: \"The form of business you operate determines what taxes you must pay and how you pay them. The following are the five general types of business taxes. Income Tax Estimated Taxes Self-Employment Tax Employment Taxes Excise Tax Income tax All businesses except partnerships must file an annual income tax return. Partnerships file an information return. The form you use depends on how your business is organized. Refer to Business Structures to find out which returns you must file based on the business entity established. The federal income tax is a pay-as-you-go tax. You must pay the tax as you earn or receive income during the year. An employee usually has income tax withheld from his or her pay. If you do not pay your tax through withholding, or do not pay enough tax that way, you might have to pay estimated tax. If you are not required to make estimated tax payments, you may pay any tax due when you file your return. For additional information refer to Publication 583.Estimated taxGenerally, you must pay taxes on income, including self-employment tax (discussed next), by making regular payments of estimated tax during the year. For additional information, refer to Estimated Taxes.Self-employment tax Self-employment tax (SE tax) is a social security and Medicare tax primarily for individuals who work for themselves. Your payments of SE tax contribute to your coverage under the social security system. Social security coverage provides you with retirement benefits, disability benefits, survivor benefits, and hospital insurance (Medicare) benefits.Generally, you must pay SE tax and file Schedule SE (Form 1040 or 1040-SR) if either of the following applies.If your net earnings from self-employment were $400 or more.If you work for a church or a qualified church-controlled organization (other than as a minister or member of a religious order) that elected an exemption from social security and Medicare taxes, you are subject to SE tax if you receive $108.28 or more in wages from the church or organization.Note: There are special rules and exceptions for aliens, fishing crew members, notary public, state or local government employees, foreign government or international organization employees, etc. For additional information, refer to Self-Employment Tax. Employment taxesWhen you have employees, you as the employer have certain employment tax responsibilities that you must pay and forms you must file. Employment taxes include the following:Social security and Medicare taxes Federal income tax withholding Federal unemployment (FUTA) tax For additional information, refer to Employment Taxes for Small Businesses.Excise taxThis section describes the excise taxes you may have to pay and the forms you have to file if you do any of the following.Manufacture or sell certain products.Operate certain kinds of businesses.Use various kinds of equipment, facilities, or products.Receive payment for certain services.Form 720 - The federal excise taxes reported on Form 720, consist of several broad categories of taxes, including the following.Environmental taxes.Communications and air transportation taxes.Fuel taxes.Tax on the first retail sale of heavy trucks, trailers, and tractors.Manufacturers taxes on the sale or use of a variety of different articlesForm 2290 - There is a federal excise tax on certain trucks, truck tractors, and buses used on public highways. The tax applies to vehicles having a taxable gross weight of 55,000 pounds or more. Report the tax on Form 2290. For additional information, see the instructions for Form 2290 .Form 730 - If you are in the business of accepting wagers or conducting a wagering pool or lottery, you may be liable for the federal excise tax on wagering. Use Form 730, to figure the tax on the wagers you receive.Form 11-C - Use Form 11-C, Occupational Tax and Registration Return for Wagering, to register for any wagering activity and to pay the federal occupational tax on wagering.Excise tax has several general excise tax programs. One of the major components of the excise program is motor fuel. For additional information, refer to Excise Taxes.\" \n",
            " Question: \"What are the typs of business taxes?\" \n",
            " Answer:\n"
          ]
        }
      ]
    },
    {
      "cell_type": "code",
      "source": [],
      "metadata": {
        "id": "KmJ6TEocwr_O"
      },
      "execution_count": null,
      "outputs": []
    },
    {
      "cell_type": "code",
      "source": [],
      "metadata": {
        "id": "CJHPnQwKxe_e"
      },
      "execution_count": null,
      "outputs": []
    }
  ]
}